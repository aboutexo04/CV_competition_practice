{
 "cells": [
  {
   "cell_type": "markdown",
   "metadata": {},
   "source": [
    "# CIFAR-10 Classification with Transfer Learning and K-Fold Cross Validation\n",
    "\n",
    "This notebook implements a CIFAR-10 image classification model using:\n",
    "- **Transfer Learning** (쉽게 모델 변경 가능!)\n",
    "- K-Fold Cross Validation (2 folds)\n",
    "- Early Stopping\n",
    "- Ensemble Prediction\n",
    "- Data Augmentation with Albumentations\n",
    "\n",
    "## 🎯 모델 변경 방법\n",
    "**Cell 4**에서 `SELECTED_MODEL` 변수를 변경하면 다양한 모델을 실험할 수 있습니다!\n",
    "\n",
    "### 사용 가능한 모델:\n",
    "- **EfficientNet**: `efficientnet_b0`, `efficientnet_b1`, `efficientnet_b2`, `efficientnet_b3`\n",
    "- **ResNet**: `resnet18`, `resnet34`, `resnet50`, `resnet101`\n",
    "- **Vision Transformer**: `vit_tiny_patch16_224`, `vit_small_patch16_224`\n",
    "- **ConvNeXt**: `convnext_tiny`, `convnext_small`\n",
    "- **MobileNet**: `mobilenetv3_small_100`, `mobilenetv3_large_100`\n"
   ]
  },
  {
   "cell_type": "markdown",
   "metadata": {},
   "source": [
    "## 1. 라이브러리 설치 및 임포트\n"
   ]
  },
  {
   "cell_type": "code",
   "execution_count": null,
   "metadata": {},
   "outputs": [],
   "source": [
    "!pip install torch torchvision"
   ]
  },
  {
   "cell_type": "code",
   "execution_count": null,
   "metadata": {},
   "outputs": [],
   "source": [
    "!pip install wandb -q"
   ]
  },
  {
   "cell_type": "code",
   "execution_count": 2,
   "metadata": {},
   "outputs": [
    {
     "name": "stderr",
     "output_type": "stream",
     "text": [
      "\u001b[34m\u001b[1mwandb\u001b[0m: \u001b[33mWARNING\u001b[0m Calling wandb.login() after wandb.init() has no effect.\n"
     ]
    },
    {
     "name": "stdout",
     "output_type": "stream",
     "text": [
      "🎯 선택된 모델: EfficientNet-B2 (efficientnet_b2)\n",
      "🚀 실험명: effnet-b2_001\n"
     ]
    },
    {
     "data": {
      "text/html": [
       "Finishing previous runs because reinit is set to 'default'."
      ],
      "text/plain": [
       "<IPython.core.display.HTML object>"
      ]
     },
     "metadata": {},
     "output_type": "display_data"
    },
    {
     "data": {
      "text/html": [],
      "text/plain": [
       "<IPython.core.display.HTML object>"
      ]
     },
     "metadata": {},
     "output_type": "display_data"
    },
    {
     "data": {
      "text/html": [
       " View run <strong style=\"color:#cdcd00\">convnext-tiny_003</strong> at: <a href='https://wandb.ai/aboutexo04-korea-open-university/cifar10-classification-practice/runs/20nm7fsk' target=\"_blank\">https://wandb.ai/aboutexo04-korea-open-university/cifar10-classification-practice/runs/20nm7fsk</a><br> View project at: <a href='https://wandb.ai/aboutexo04-korea-open-university/cifar10-classification-practice' target=\"_blank\">https://wandb.ai/aboutexo04-korea-open-university/cifar10-classification-practice</a><br>Synced 5 W&B file(s), 0 media file(s), 0 artifact file(s) and 0 other file(s)"
      ],
      "text/plain": [
       "<IPython.core.display.HTML object>"
      ]
     },
     "metadata": {},
     "output_type": "display_data"
    },
    {
     "data": {
      "text/html": [
       "Find logs at: <code>./wandb/run-20251028_231020-20nm7fsk/logs</code>"
      ],
      "text/plain": [
       "<IPython.core.display.HTML object>"
      ]
     },
     "metadata": {},
     "output_type": "display_data"
    },
    {
     "data": {
      "text/html": [],
      "text/plain": [
       "<IPython.core.display.HTML object>"
      ]
     },
     "metadata": {},
     "output_type": "display_data"
    },
    {
     "data": {
      "text/html": [
       "Tracking run with wandb version 0.22.2"
      ],
      "text/plain": [
       "<IPython.core.display.HTML object>"
      ]
     },
     "metadata": {},
     "output_type": "display_data"
    },
    {
     "data": {
      "text/html": [
       "Run data is saved locally in <code>/Users/symun/CV_competition_practice/wandb/run-20251028_231041-w6vrorfg</code>"
      ],
      "text/plain": [
       "<IPython.core.display.HTML object>"
      ]
     },
     "metadata": {},
     "output_type": "display_data"
    },
    {
     "data": {
      "text/html": [
       "Syncing run <strong><a href='https://wandb.ai/aboutexo04-korea-open-university/cifar10-classification-practice/runs/w6vrorfg' target=\"_blank\">effnet-b2_001</a></strong> to <a href='https://wandb.ai/aboutexo04-korea-open-university/cifar10-classification-practice' target=\"_blank\">Weights & Biases</a> (<a href='https://wandb.me/developer-guide' target=\"_blank\">docs</a>)<br>"
      ],
      "text/plain": [
       "<IPython.core.display.HTML object>"
      ]
     },
     "metadata": {},
     "output_type": "display_data"
    },
    {
     "data": {
      "text/html": [
       " View project at <a href='https://wandb.ai/aboutexo04-korea-open-university/cifar10-classification-practice' target=\"_blank\">https://wandb.ai/aboutexo04-korea-open-university/cifar10-classification-practice</a>"
      ],
      "text/plain": [
       "<IPython.core.display.HTML object>"
      ]
     },
     "metadata": {},
     "output_type": "display_data"
    },
    {
     "data": {
      "text/html": [
       " View run at <a href='https://wandb.ai/aboutexo04-korea-open-university/cifar10-classification-practice/runs/w6vrorfg' target=\"_blank\">https://wandb.ai/aboutexo04-korea-open-university/cifar10-classification-practice/runs/w6vrorfg</a>"
      ],
      "text/plain": [
       "<IPython.core.display.HTML object>"
      ]
     },
     "metadata": {},
     "output_type": "display_data"
    },
    {
     "name": "stdout",
     "output_type": "stream",
     "text": [
      "✅ Wandb 초기화 완료! Run ID: w6vrorfg\n",
      "📊 대시보드 링크: https://wandb.ai/aboutexo04-korea-open-university/cifar10-classification-practice/runs/w6vrorfg\n"
     ]
    }
   ],
   "source": [
    "import wandb\n",
    "import os\n",
    "from datetime import datetime\n",
    "\n",
    "# Wandb 초기화\n",
    "wandb.login(key=\"ca924358fec3d2d7be0a1ff092cb955fbf5fff6d\")\n",
    "\n",
    "# 🔥 모델 선택 (여기를 수정하여 다른 모델 실험 가능)\n",
    "# 사용 가능한 모델:\n",
    "# - EfficientNet: 'efficientnet_b0', 'efficientnet_b1', 'efficientnet_b2', 'efficientnet_b3'\n",
    "# - ResNet: 'resnet18', 'resnet34', 'resnet50', 'resnet101'\n",
    "# - ViT: 'vit_tiny_patch16_224', 'vit_small_patch16_224'\n",
    "# - ConvNeXt: 'convnext_tiny', 'convnext_small'\n",
    "# - MobileNet: 'mobilenetv3_small_100', 'mobilenetv3_large_100'\n",
    "SELECTED_MODEL = 'efficientnet_b2'  # 🔥 여기를 변경하여 다른 모델 실험!\n",
    "\n",
    "# 모델별 설정\n",
    "MODEL_CONFIGS = {\n",
    "    'efficientnet_b0': {'display_name': 'EfficientNet-B0', 'short_name': 'effnet-b0'},\n",
    "    'efficientnet_b1': {'display_name': 'EfficientNet-B1', 'short_name': 'effnet-b1'},\n",
    "    'efficientnet_b2': {'display_name': 'EfficientNet-B2', 'short_name': 'effnet-b2'},\n",
    "    'efficientnet_b3': {'display_name': 'EfficientNet-B3', 'short_name': 'effnet-b3'},\n",
    "    'resnet18': {'display_name': 'ResNet-18', 'short_name': 'resnet18'},\n",
    "    'resnet34': {'display_name': 'ResNet-34', 'short_name': 'resnet34'},\n",
    "    'resnet50': {'display_name': 'ResNet-50', 'short_name': 'resnet50'},\n",
    "    'resnet101': {'display_name': 'ResNet-101', 'short_name': 'resnet101'},\n",
    "    'vit_tiny_patch16_224': {'display_name': 'ViT-Tiny', 'short_name': 'vit-tiny'},\n",
    "    'vit_small_patch16_224': {'display_name': 'ViT-Small', 'short_name': 'vit-small'},\n",
    "    'convnext_tiny': {'display_name': 'ConvNeXt-Tiny', 'short_name': 'convnext-tiny'},\n",
    "    'convnext_small': {'display_name': 'ConvNeXt-Small', 'short_name': 'convnext-small'},\n",
    "    'mobilenetv3_small_100': {'display_name': 'MobileNetV3-Small', 'short_name': 'mobilenet-small'},\n",
    "    'mobilenetv3_large_100': {'display_name': 'MobileNetV3-Large', 'short_name': 'mobilenet-large'},\n",
    "}\n",
    "\n",
    "model_config = MODEL_CONFIGS.get(SELECTED_MODEL, {'display_name': SELECTED_MODEL, 'short_name': SELECTED_MODEL})\n",
    "MODEL_NAME = model_config['short_name']\n",
    "MODEL_DISPLAY_NAME = model_config['display_name']\n",
    "\n",
    "print(f\"🎯 선택된 모델: {MODEL_DISPLAY_NAME} ({SELECTED_MODEL})\")\n",
    "\n",
    "# 🔥 자동 넘버링 함수\n",
    "def get_next_run_number(project_name, model_name):\n",
    "    \"\"\"\n",
    "    기존 실험들의 넘버링을 확인하여 다음 번호를 반환\n",
    "    \"\"\"\n",
    "    try:\n",
    "        api = wandb.Api()\n",
    "        runs = api.runs(f\"{api.default_entity}/{project_name}\")\n",
    "        \n",
    "        # 모델명으로 시작하는 run들의 번호 추출\n",
    "        existing_numbers = []\n",
    "        for run in runs:\n",
    "            if run.name.startswith(model_name):\n",
    "                # 이름에서 숫자 부분 추출 (예: efficientnet-b0_003 -> 3)\n",
    "                parts = run.name.split('_')\n",
    "                if len(parts) > 1 and parts[-1].isdigit():\n",
    "                    existing_numbers.append(int(parts[-1]))\n",
    "        \n",
    "        # 다음 번호 반환\n",
    "        next_number = max(existing_numbers) + 1 if existing_numbers else 1\n",
    "        return next_number\n",
    "    except:\n",
    "        # API 접근 실패 시 타임스탬프 기반 번호 반환\n",
    "        return int(datetime.now().strftime(\"%H%M%S\")) % 1000\n",
    "\n",
    "# 프로젝트 설정\n",
    "PROJECT_NAME = \"cifar10-classification-practice\"\n",
    "\n",
    "config = {\n",
    "    \"model\": MODEL_DISPLAY_NAME,\n",
    "    \"model_architecture\": SELECTED_MODEL,\n",
    "    \"dataset\": \"CIFAR-10\",\n",
    "    \"epochs\": 10,\n",
    "    \"batch_size\": 128,\n",
    "    \"learning_rate\": 0.001,\n",
    "    \"n_splits\": 2,\n",
    "    \"early_stopping_patience\": 5,\n",
    "    \"optimizer\": \"Adam\",\n",
    "    \"image_size\": 128,\n",
    "    \"data_subset_ratio\": 0.1,\n",
    "}\n",
    "\n",
    "# 🔥 자동 넘버링된 실험명 생성\n",
    "run_number = get_next_run_number(PROJECT_NAME, MODEL_NAME)\n",
    "experiment_name = f\"{MODEL_NAME}_{run_number:03d}\"  # 3자리 숫자로 패딩 (예: 001, 002, ...)\n",
    "\n",
    "print(f\"🚀 실험명: {experiment_name}\")\n",
    "\n",
    "# 실험 시작\n",
    "run = wandb.init(\n",
    "    project=PROJECT_NAME,\n",
    "    config=config,\n",
    "    name=experiment_name,\n",
    "    tags=[MODEL_NAME, \"k-fold\", \"transfer-learning\", \"practice\"]\n",
    ")\n",
    "\n",
    "print(f\"✅ Wandb 초기화 완료! Run ID: {run.id}\")\n",
    "print(f\"📊 대시보드 링크: {run.url}\")\n"
   ]
  },
  {
   "cell_type": "markdown",
   "metadata": {},
   "source": [
    "## Wandb 초기화 및 설정"
   ]
  },
  {
   "cell_type": "code",
   "execution_count": 3,
   "metadata": {},
   "outputs": [
    {
     "name": "stdout",
     "output_type": "stream",
     "text": [
      "Using device: MPS (Apple Silicon)\n"
     ]
    }
   ],
   "source": [
    "!pip install timm albumentations scikit-learn -q\n",
    "\n",
    "import torch\n",
    "import torch.nn as nn\n",
    "import torch.optim as optim\n",
    "from torch.utils.data import DataLoader, Dataset, Subset\n",
    "import torchvision\n",
    "import torchvision.transforms as transforms\n",
    "import timm\n",
    "import albumentations as A\n",
    "from albumentations.pytorch import ToTensorV2\n",
    "import numpy as np\n",
    "from tqdm import tqdm\n",
    "import matplotlib.pyplot as plt\n",
    "from sklearn.model_selection import StratifiedKFold\n",
    "from sklearn.metrics import f1_score, classification_report, confusion_matrix\n",
    "import seaborn as sns\n",
    "import copy\n",
    "\n",
    "# 디바이스 설정\n",
    "# 🔥 ConvNeXt와 일부 모델은 MPS에서 view() 문제가 있어 CPU 사용\n",
    "PROBLEMATIC_MODELS = ['convnext_tiny', 'convnext_small', 'convnext_base']\n",
    "\n",
    "if SELECTED_MODEL in PROBLEMATIC_MODELS:\n",
    "    device = torch.device(\"cpu\")\n",
    "    print(f'Using device: CPU (MPS has compatibility issues with {SELECTED_MODEL})')\n",
    "elif torch.backends.mps.is_available():\n",
    "    device = torch.device(\"mps\")\n",
    "    print(f'Using device: MPS (Apple Silicon)')\n",
    "elif torch.cuda.is_available():\n",
    "    device = torch.device(\"cuda\")\n",
    "    print(f'Using device: CUDA')\n",
    "else:\n",
    "    device = torch.device(\"cpu\")\n",
    "    print(f'Using device: CPU')"
   ]
  },
  {
   "cell_type": "markdown",
   "metadata": {},
   "source": [
    "## 2. Early Stopping 클래스\n"
   ]
  },
  {
   "cell_type": "code",
   "execution_count": 4,
   "metadata": {},
   "outputs": [],
   "source": [
    "class EarlyStopping:\n",
    "    def __init__(self, patience=3, verbose=True, delta=0):\n",
    "        \"\"\"\n",
    "        Args:\n",
    "            patience (int): validation F1이 개선되지 않아도 기다릴 epoch 수\n",
    "            verbose (bool): 메시지 출력 여부\n",
    "            delta (float): 개선으로 인정할 최소 변화량\n",
    "        \"\"\"\n",
    "        self.patience = patience\n",
    "        self.verbose = verbose\n",
    "        self.delta = delta\n",
    "        self.counter = 0\n",
    "        self.best_score = None\n",
    "        self.early_stop = False\n",
    "        self.best_f1 = 0\n",
    "        \n",
    "    def __call__(self, val_f1, model):\n",
    "        score = val_f1\n",
    "        \n",
    "        if self.best_score is None:\n",
    "            self.best_score = score\n",
    "            self.best_f1 = val_f1\n",
    "            self.save_checkpoint(val_f1, model)\n",
    "        elif score < self.best_score + self.delta:\n",
    "            self.counter += 1\n",
    "            if self.verbose:\n",
    "                print(f'⏸️  EarlyStopping counter: {self.counter}/{self.patience}')\n",
    "            if self.counter >= self.patience:\n",
    "                self.early_stop = True\n",
    "        else:\n",
    "            self.best_score = score\n",
    "            self.best_f1 = val_f1\n",
    "            self.save_checkpoint(val_f1, model)\n",
    "            self.counter = 0\n",
    "    \n",
    "    def save_checkpoint(self, val_f1, model):\n",
    "        '''validation F1이 개선되면 모델 저장'''\n",
    "        if self.verbose:\n",
    "            print(f'✅ Validation F1 improved ({self.best_f1:.4f} → {val_f1:.4f}). Saving model...')\n",
    "        self.best_model_state = copy.deepcopy(model.state_dict())\n",
    "        self.best_f1 = val_f1\n",
    "\n",
    "\n",
    "# 🔥 MPS 호환성을 위한 모델 래퍼\n",
    "class MPSCompatibleModel(nn.Module):\n",
    "    \"\"\"\n",
    "    MPS에서 발생하는 view() 호환성 문제를 해결하는 래퍼\n",
    "    \"\"\"\n",
    "    def __init__(self, base_model):\n",
    "        super().__init__()\n",
    "        self.base_model = base_model\n",
    "    \n",
    "    def forward(self, x):\n",
    "        # 입력을 contiguous하게 만듦\n",
    "        x = x.contiguous()\n",
    "        output = self.base_model(x)\n",
    "        # 출력도 contiguous하게 만듦\n",
    "        return output.contiguous()\n",
    "    \n",
    "    def load_state_dict(self, state_dict, strict=True):\n",
    "        return self.base_model.load_state_dict(state_dict, strict=strict)\n",
    "    \n",
    "    def state_dict(self):\n",
    "        return self.base_model.state_dict()"
   ]
  },
  {
   "cell_type": "markdown",
   "metadata": {},
   "source": [
    "## 3. Custom Dataset (Albumentations 사용)\n"
   ]
  },
  {
   "cell_type": "code",
   "execution_count": 5,
   "metadata": {},
   "outputs": [],
   "source": [
    "class CIFAR10Dataset(Dataset):\n",
    "    def __init__(self, dataset, transform=None):\n",
    "        self.dataset = dataset\n",
    "        self.transform = transform\n",
    "    \n",
    "    def __len__(self):\n",
    "        return len(self.dataset)\n",
    "    \n",
    "    def __getitem__(self, idx):\n",
    "        image, label = self.dataset[idx]\n",
    "        image = np.array(image)  # PIL to numpy\n",
    "        \n",
    "        if self.transform:\n",
    "            augmented = self.transform(image=image)\n",
    "            image = augmented['image']\n",
    "        \n",
    "        return image, label\n"
   ]
  },
  {
   "cell_type": "markdown",
   "metadata": {},
   "source": [
    "## 4. Augmentation 설정\n"
   ]
  },
  {
   "cell_type": "code",
   "execution_count": 6,
   "metadata": {},
   "outputs": [],
   "source": [
    "train_transform = A.Compose([\n",
    "    A.Resize(128, 128),\n",
    "    A.HorizontalFlip(p=0.5),\n",
    "    A.Rotate(limit=10, p=0.3),\n",
    "    A.Normalize(\n",
    "        mean=[0.485, 0.456, 0.406],\n",
    "        std=[0.229, 0.224, 0.225]\n",
    "    ),\n",
    "    ToTensorV2()\n",
    "])\n",
    "\n",
    "val_transform = A.Compose([\n",
    "    A.Resize(128, 128),\n",
    "    A.Normalize(\n",
    "        mean=[0.485, 0.456, 0.406],\n",
    "        std=[0.229, 0.224, 0.225]\n",
    "    ),\n",
    "    ToTensorV2()\n",
    "])"
   ]
  },
  {
   "cell_type": "markdown",
   "metadata": {},
   "source": [
    "## 5. 데이터셋 로드"
   ]
  },
  {
   "cell_type": "code",
   "execution_count": 7,
   "metadata": {},
   "outputs": [
    {
     "name": "stdout",
     "output_type": "stream",
     "text": [
      "Files already downloaded and verified\n",
      "Files already downloaded and verified\n",
      "🔥 발열 감소 모드: 데이터셋 10% 사용\n",
      "✅ Total train size: 5,000\n",
      "✅ Test size: 1,000\n",
      "\n",
      "💡 전체 데이터로 학습하려면 USE_SUBSET = False로 변경하세요\n"
     ]
    }
   ],
   "source": [
    "import random\n",
    "\n",
    "# 🔥 연습용 설정: 데이터셋 크기 조절 (10% 사용)\n",
    "USE_SUBSET = True  # False로 변경하면 전체 데이터 사용\n",
    "SUBSET_RATIO = 0.1  # 10%만 사용 (0.1 ~ 1.0)\n",
    "\n",
    "train_dataset_raw = torchvision.datasets.CIFAR10(\n",
    "    root='./data', \n",
    "    train=True, \n",
    "    download=True\n",
    ")\n",
    "\n",
    "test_dataset_raw = torchvision.datasets.CIFAR10(\n",
    "    root='./data', \n",
    "    train=False, \n",
    "    download=True\n",
    ")\n",
    "\n",
    "# 🔥 데이터셋 서브샘플링 (클래스별 균등 샘플링)\n",
    "if USE_SUBSET:\n",
    "    # Train 데이터 서브샘플링\n",
    "    train_indices_by_class = {}\n",
    "    for idx, (_, label) in enumerate(train_dataset_raw):\n",
    "        if label not in train_indices_by_class:\n",
    "            train_indices_by_class[label] = []\n",
    "        train_indices_by_class[label].append(idx)\n",
    "    \n",
    "    # 각 클래스에서 균등하게 샘플링\n",
    "    selected_train_indices = []\n",
    "    for label, indices in train_indices_by_class.items():\n",
    "        n_samples = int(len(indices) * SUBSET_RATIO)\n",
    "        selected_train_indices.extend(random.sample(indices, n_samples))\n",
    "    \n",
    "    selected_train_indices.sort()\n",
    "    train_dataset_raw = Subset(train_dataset_raw, selected_train_indices)\n",
    "    \n",
    "    # Test 데이터 서브샘플링\n",
    "    test_indices_by_class = {}\n",
    "    for idx, (_, label) in enumerate(test_dataset_raw):\n",
    "        if label not in test_indices_by_class:\n",
    "            test_indices_by_class[label] = []\n",
    "        test_indices_by_class[label].append(idx)\n",
    "    \n",
    "    selected_test_indices = []\n",
    "    for label, indices in test_indices_by_class.items():\n",
    "        n_samples = int(len(indices) * SUBSET_RATIO)\n",
    "        selected_test_indices.extend(random.sample(indices, n_samples))\n",
    "    \n",
    "    selected_test_indices.sort()\n",
    "    test_dataset_raw = Subset(test_dataset_raw, selected_test_indices)\n",
    "    \n",
    "    print(f\"🔥 발열 감소 모드: 데이터셋 {int(SUBSET_RATIO*100)}% 사용\")\n",
    "\n",
    "full_train_dataset = CIFAR10Dataset(train_dataset_raw, transform=None)\n",
    "test_dataset = CIFAR10Dataset(test_dataset_raw, transform=val_transform)\n",
    "\n",
    "train_labels = [label for _, label in train_dataset_raw]\n",
    "\n",
    "print(f'✅ Total train size: {len(full_train_dataset):,}')\n",
    "print(f'✅ Test size: {len(test_dataset):,}')\n",
    "\n",
    "if USE_SUBSET:\n",
    "    print(f\"\\n💡 전체 데이터로 학습하려면 USE_SUBSET = False로 변경하세요\")"
   ]
  },
  {
   "cell_type": "markdown",
   "metadata": {},
   "source": [
    "## 6. 학습 및 검증 함수\n",
    "\n",
    "아래 셀에서 `train_one_epoch`와 `validate` 함수를 정의합니다."
   ]
  },
  {
   "cell_type": "code",
   "execution_count": 8,
   "metadata": {},
   "outputs": [],
   "source": [
    "def train_one_epoch(model, train_loader, criterion, optimizer, device):\n",
    "    \"\"\"\n",
    "    한 에폭 동안 모델 학습\n",
    "    \n",
    "    Args:\n",
    "        model: 학습할 모델\n",
    "        train_loader: 학습 데이터 로더\n",
    "        criterion: 손실 함수\n",
    "        optimizer: 옵티마이저\n",
    "        device: 디바이스 (CPU/GPU/MPS)\n",
    "    \n",
    "    Returns:\n",
    "        train_loss: 평균 학습 손실\n",
    "        train_acc: 학습 정확도 (%)\n",
    "        train_f1: 학습 F1 Score\n",
    "    \"\"\"\n",
    "    model.train()\n",
    "    running_loss = 0.0\n",
    "    correct = 0\n",
    "    total = 0\n",
    "    all_preds = []\n",
    "    all_labels = []\n",
    "    \n",
    "    for images, labels in tqdm(train_loader, desc=\"Training\", leave=False):\n",
    "        images, labels = images.to(device), labels.to(device)\n",
    "        \n",
    "        # Forward pass\n",
    "        optimizer.zero_grad()\n",
    "        outputs = model(images)\n",
    "        loss = criterion(outputs, labels)\n",
    "        \n",
    "        # Backward pass\n",
    "        loss.backward()\n",
    "        optimizer.step()\n",
    "        \n",
    "        # 통계\n",
    "        running_loss += loss.item() * images.size(0)\n",
    "        _, predicted = torch.max(outputs, 1)\n",
    "        total += labels.size(0)\n",
    "        correct += (predicted == labels).sum().item()\n",
    "        \n",
    "        all_preds.extend(predicted.cpu().numpy())\n",
    "        all_labels.extend(labels.cpu().numpy())\n",
    "    \n",
    "    train_loss = running_loss / total\n",
    "    train_acc = 100. * correct / total\n",
    "    train_f1 = f1_score(all_labels, all_preds, average='macro')\n",
    "    \n",
    "    return train_loss, train_acc, train_f1\n",
    "\n",
    "\n",
    "def validate(model, val_loader, criterion, device):\n",
    "    \"\"\"\n",
    "    검증 데이터셋에서 모델 평가\n",
    "    \n",
    "    Args:\n",
    "        model: 평가할 모델\n",
    "        val_loader: 검증 데이터 로더\n",
    "        criterion: 손실 함수\n",
    "        device: 디바이스 (CPU/GPU/MPS)\n",
    "    \n",
    "    Returns:\n",
    "        val_loss: 평균 검증 손실\n",
    "        val_acc: 검증 정확도 (%)\n",
    "        val_f1: 검증 F1 Score (macro)\n",
    "        all_preds: 모든 예측 결과\n",
    "        all_labels: 모든 실제 레이블\n",
    "    \"\"\"\n",
    "    model.eval()\n",
    "    running_loss = 0.0\n",
    "    correct = 0\n",
    "    total = 0\n",
    "    all_preds = []\n",
    "    all_labels = []\n",
    "    \n",
    "    with torch.no_grad():\n",
    "        for images, labels in tqdm(val_loader, desc=\"Validation\", leave=False):\n",
    "            images, labels = images.to(device), labels.to(device)\n",
    "            \n",
    "            # Forward pass\n",
    "            outputs = model(images)\n",
    "            loss = criterion(outputs, labels)\n",
    "            \n",
    "            # 통계\n",
    "            running_loss += loss.item() * images.size(0)\n",
    "            _, predicted = torch.max(outputs, 1)\n",
    "            total += labels.size(0)\n",
    "            correct += (predicted == labels).sum().item()\n",
    "            \n",
    "            all_preds.extend(predicted.cpu().numpy())\n",
    "            all_labels.extend(labels.cpu().numpy())\n",
    "    \n",
    "    val_loss = running_loss / total\n",
    "    val_acc = 100. * correct / total\n",
    "    val_f1 = f1_score(all_labels, all_preds, average='macro')\n",
    "    \n",
    "    return val_loss, val_acc, val_f1, all_preds, all_labels"
   ]
  },
  {
   "cell_type": "code",
   "execution_count": 9,
   "metadata": {},
   "outputs": [
    {
     "name": "stdout",
     "output_type": "stream",
     "text": [
      "============================================================\n",
      "K-Fold Cross Validation 시작 (연습용 최적화 버전)\n",
      "Epochs: 10, Batch Size: 128, Folds: 2\n",
      "============================================================\n",
      "\n",
      "============================================================\n",
      "Fold 1/2\n",
      "============================================================\n"
     ]
    },
    {
     "data": {
      "application/vnd.jupyter.widget-view+json": {
       "model_id": "dfe63e31f98147ebbcdda37e4f2681a7",
       "version_major": 2,
       "version_minor": 0
      },
      "text/plain": [
       "model.safetensors:   0%|          | 0.00/36.8M [00:00<?, ?B/s]"
      ]
     },
     "metadata": {},
     "output_type": "display_data"
    },
    {
     "name": "stdout",
     "output_type": "stream",
     "text": [
      "\n",
      "Epoch [1/10]\n"
     ]
    },
    {
     "name": "stderr",
     "output_type": "stream",
     "text": [
      "                                                           \r"
     ]
    },
    {
     "name": "stdout",
     "output_type": "stream",
     "text": [
      "Train Loss: 1.6326 | Train Acc: 60.76% | Train F1: 0.6069\n",
      "Val   Loss: 0.9523 | Val   Acc: 75.80% | Val   F1: 0.7585\n",
      "✅ Validation F1 improved (0.7585 → 0.7585). Saving model...\n",
      "\n",
      "Epoch [2/10]\n"
     ]
    },
    {
     "name": "stderr",
     "output_type": "stream",
     "text": [
      "                                                           \r"
     ]
    },
    {
     "name": "stdout",
     "output_type": "stream",
     "text": [
      "Train Loss: 0.4014 | Train Acc: 87.88% | Train F1: 0.8787\n",
      "Val   Loss: 0.6717 | Val   Acc: 82.24% | Val   F1: 0.8228\n",
      "✅ Validation F1 improved (0.8228 → 0.8228). Saving model...\n",
      "\n",
      "Epoch [3/10]\n"
     ]
    },
    {
     "name": "stderr",
     "output_type": "stream",
     "text": [
      "                                                           \r"
     ]
    },
    {
     "name": "stdout",
     "output_type": "stream",
     "text": [
      "Train Loss: 0.1352 | Train Acc: 96.20% | Train F1: 0.9619\n",
      "Val   Loss: 0.6565 | Val   Acc: 83.24% | Val   F1: 0.8322\n",
      "✅ Validation F1 improved (0.8322 → 0.8322). Saving model...\n",
      "\n",
      "Epoch [4/10]\n"
     ]
    },
    {
     "name": "stderr",
     "output_type": "stream",
     "text": [
      "                                                           \r"
     ]
    },
    {
     "name": "stdout",
     "output_type": "stream",
     "text": [
      "Train Loss: 0.0836 | Train Acc: 97.60% | Train F1: 0.9760\n",
      "Val   Loss: 0.7147 | Val   Acc: 82.44% | Val   F1: 0.8239\n",
      "⏸️  EarlyStopping counter: 1/5\n",
      "\n",
      "Epoch [5/10]\n"
     ]
    },
    {
     "name": "stderr",
     "output_type": "stream",
     "text": [
      "                                                           \r"
     ]
    },
    {
     "name": "stdout",
     "output_type": "stream",
     "text": [
      "Train Loss: 0.0683 | Train Acc: 98.00% | Train F1: 0.9800\n",
      "Val   Loss: 0.7111 | Val   Acc: 84.48% | Val   F1: 0.8447\n",
      "✅ Validation F1 improved (0.8447 → 0.8447). Saving model...\n",
      "\n",
      "Epoch [6/10]\n"
     ]
    },
    {
     "name": "stderr",
     "output_type": "stream",
     "text": [
      "                                                           \r"
     ]
    },
    {
     "name": "stdout",
     "output_type": "stream",
     "text": [
      "Train Loss: 0.0443 | Train Acc: 98.56% | Train F1: 0.9856\n",
      "Val   Loss: 0.7581 | Val   Acc: 83.44% | Val   F1: 0.8325\n",
      "⏸️  EarlyStopping counter: 1/5\n",
      "\n",
      "Epoch [7/10]\n"
     ]
    },
    {
     "name": "stderr",
     "output_type": "stream",
     "text": [
      "                                                           \r"
     ]
    },
    {
     "name": "stdout",
     "output_type": "stream",
     "text": [
      "Train Loss: 0.0574 | Train Acc: 98.64% | Train F1: 0.9864\n",
      "Val   Loss: 0.7904 | Val   Acc: 83.36% | Val   F1: 0.8342\n",
      "⏸️  EarlyStopping counter: 2/5\n",
      "\n",
      "Epoch [8/10]\n"
     ]
    },
    {
     "name": "stderr",
     "output_type": "stream",
     "text": [
      "                                                           \r"
     ]
    },
    {
     "name": "stdout",
     "output_type": "stream",
     "text": [
      "Train Loss: 0.0668 | Train Acc: 98.12% | Train F1: 0.9812\n",
      "Val   Loss: 0.8880 | Val   Acc: 82.64% | Val   F1: 0.8268\n",
      "⏸️  EarlyStopping counter: 3/5\n",
      "\n",
      "Epoch [9/10]\n"
     ]
    },
    {
     "name": "stderr",
     "output_type": "stream",
     "text": [
      "                                                           \r"
     ]
    },
    {
     "name": "stdout",
     "output_type": "stream",
     "text": [
      "Train Loss: 0.0468 | Train Acc: 98.60% | Train F1: 0.9860\n",
      "Val   Loss: 0.7711 | Val   Acc: 83.16% | Val   F1: 0.8326\n",
      "⏸️  EarlyStopping counter: 4/5\n",
      "\n",
      "Epoch [10/10]\n"
     ]
    },
    {
     "name": "stderr",
     "output_type": "stream",
     "text": [
      "                                                           \r"
     ]
    },
    {
     "name": "stdout",
     "output_type": "stream",
     "text": [
      "Train Loss: 0.0222 | Train Acc: 99.48% | Train F1: 0.9948\n",
      "Val   Loss: 0.7253 | Val   Acc: 83.56% | Val   F1: 0.8348\n",
      "⏸️  EarlyStopping counter: 5/5\n",
      "🛑 Early stopping triggered!\n",
      "\n",
      "✅ Fold 1 완료! Best Validation F1: 0.8447\n",
      "\n",
      "============================================================\n",
      "Fold 2/2\n",
      "============================================================\n",
      "\n",
      "Epoch [1/10]\n"
     ]
    },
    {
     "name": "stderr",
     "output_type": "stream",
     "text": [
      "                                                           \r"
     ]
    },
    {
     "name": "stdout",
     "output_type": "stream",
     "text": [
      "Train Loss: 1.6318 | Train Acc: 60.00% | Train F1: 0.5985\n",
      "Val   Loss: 1.2001 | Val   Acc: 72.20% | Val   F1: 0.7172\n",
      "✅ Validation F1 improved (0.7172 → 0.7172). Saving model...\n",
      "\n",
      "Epoch [2/10]\n"
     ]
    },
    {
     "name": "stderr",
     "output_type": "stream",
     "text": [
      "                                                           \r"
     ]
    },
    {
     "name": "stdout",
     "output_type": "stream",
     "text": [
      "Train Loss: 0.3622 | Train Acc: 87.84% | Train F1: 0.8785\n",
      "Val   Loss: 0.7569 | Val   Acc: 82.20% | Val   F1: 0.8226\n",
      "✅ Validation F1 improved (0.8226 → 0.8226). Saving model...\n",
      "\n",
      "Epoch [3/10]\n"
     ]
    },
    {
     "name": "stderr",
     "output_type": "stream",
     "text": [
      "                                                           \r"
     ]
    },
    {
     "name": "stdout",
     "output_type": "stream",
     "text": [
      "Train Loss: 0.1309 | Train Acc: 95.84% | Train F1: 0.9584\n",
      "Val   Loss: 0.6763 | Val   Acc: 83.12% | Val   F1: 0.8315\n",
      "✅ Validation F1 improved (0.8315 → 0.8315). Saving model...\n",
      "\n",
      "Epoch [4/10]\n"
     ]
    },
    {
     "name": "stderr",
     "output_type": "stream",
     "text": [
      "                                                           \r"
     ]
    },
    {
     "name": "stdout",
     "output_type": "stream",
     "text": [
      "Train Loss: 0.0640 | Train Acc: 97.88% | Train F1: 0.9788\n",
      "Val   Loss: 0.7555 | Val   Acc: 82.96% | Val   F1: 0.8296\n",
      "⏸️  EarlyStopping counter: 1/5\n",
      "\n",
      "Epoch [5/10]\n"
     ]
    },
    {
     "name": "stderr",
     "output_type": "stream",
     "text": [
      "                                                           \r"
     ]
    },
    {
     "name": "stdout",
     "output_type": "stream",
     "text": [
      "Train Loss: 0.0525 | Train Acc: 98.60% | Train F1: 0.9860\n",
      "Val   Loss: 0.8270 | Val   Acc: 83.92% | Val   F1: 0.8398\n",
      "✅ Validation F1 improved (0.8398 → 0.8398). Saving model...\n",
      "\n",
      "Epoch [6/10]\n"
     ]
    },
    {
     "name": "stderr",
     "output_type": "stream",
     "text": [
      "                                                           \r"
     ]
    },
    {
     "name": "stdout",
     "output_type": "stream",
     "text": [
      "Train Loss: 0.0418 | Train Acc: 98.76% | Train F1: 0.9876\n",
      "Val   Loss: 0.8895 | Val   Acc: 84.08% | Val   F1: 0.8403\n",
      "✅ Validation F1 improved (0.8403 → 0.8403). Saving model...\n",
      "\n",
      "Epoch [7/10]\n"
     ]
    },
    {
     "name": "stderr",
     "output_type": "stream",
     "text": [
      "                                                           \r"
     ]
    },
    {
     "name": "stdout",
     "output_type": "stream",
     "text": [
      "Train Loss: 0.0387 | Train Acc: 98.56% | Train F1: 0.9856\n",
      "Val   Loss: 0.8463 | Val   Acc: 84.64% | Val   F1: 0.8463\n",
      "✅ Validation F1 improved (0.8463 → 0.8463). Saving model...\n",
      "\n",
      "Epoch [8/10]\n"
     ]
    },
    {
     "name": "stderr",
     "output_type": "stream",
     "text": [
      "                                                           \r"
     ]
    },
    {
     "name": "stdout",
     "output_type": "stream",
     "text": [
      "Train Loss: 0.0549 | Train Acc: 98.56% | Train F1: 0.9856\n",
      "Val   Loss: 0.9142 | Val   Acc: 82.96% | Val   F1: 0.8292\n",
      "⏸️  EarlyStopping counter: 1/5\n",
      "\n",
      "Epoch [9/10]\n"
     ]
    },
    {
     "name": "stderr",
     "output_type": "stream",
     "text": [
      "                                                           \r"
     ]
    },
    {
     "name": "stdout",
     "output_type": "stream",
     "text": [
      "Train Loss: 0.0684 | Train Acc: 98.16% | Train F1: 0.9816\n",
      "Val   Loss: 0.9837 | Val   Acc: 81.40% | Val   F1: 0.8146\n",
      "⏸️  EarlyStopping counter: 2/5\n",
      "\n",
      "Epoch [10/10]\n"
     ]
    },
    {
     "name": "stderr",
     "output_type": "stream",
     "text": [
      "                                                           "
     ]
    },
    {
     "name": "stdout",
     "output_type": "stream",
     "text": [
      "Train Loss: 0.0911 | Train Acc: 97.40% | Train F1: 0.9740\n",
      "Val   Loss: 0.8717 | Val   Acc: 83.60% | Val   F1: 0.8362\n",
      "⏸️  EarlyStopping counter: 3/5\n",
      "\n",
      "✅ Fold 2 완료! Best Validation F1: 0.8463\n",
      "\n",
      "============================================================\n",
      "전체 K-Fold 학습 완료!\n",
      "============================================================\n"
     ]
    },
    {
     "name": "stderr",
     "output_type": "stream",
     "text": [
      "\r"
     ]
    }
   ],
   "source": [
    "# 하이퍼파라미터 설정 (발열 감소를 위한 최적화)\n",
    "NUM_EPOCHS = 10        # 🔥 데이터 10%로 줄였으니 에폭 증가 (2 → 10)\n",
    "BATCH_SIZE = 128       # 64 → 128로 증가 (학습 속도 향상)\n",
    "LEARNING_RATE = 0.001\n",
    "N_SPLITS = 2           # 3 → 2로 감소 (전체 학습 시간 단축)\n",
    "PATIENCE = 5           # 🔥 에폭이 늘어나니 patience도 5로 복구\n",
    "\n",
    "# K-Fold 설정\n",
    "skf = StratifiedKFold(n_splits=N_SPLITS, shuffle=True, random_state=42)\n",
    "\n",
    "# 결과 저장\n",
    "fold_models = []\n",
    "fold_results = []\n",
    "\n",
    "print(\"=\" * 60)\n",
    "print(\"K-Fold Cross Validation 시작 (연습용 최적화 버전)\")\n",
    "print(f\"Epochs: {NUM_EPOCHS}, Batch Size: {BATCH_SIZE}, Folds: {N_SPLITS}\")\n",
    "print(\"=\" * 60)\n",
    "\n",
    "for fold, (train_idx, val_idx) in enumerate(skf.split(np.zeros(len(train_labels)), train_labels)):\n",
    "    print(f\"\\n{'='*60}\")\n",
    "    print(f\"Fold {fold + 1}/{N_SPLITS}\")\n",
    "    print(f\"{'='*60}\")\n",
    "    \n",
    "    # Subset 생성 with custom transforms\n",
    "    train_subset_raw = Subset(train_dataset_raw, train_idx)\n",
    "    val_subset_raw = Subset(train_dataset_raw, val_idx)\n",
    "    \n",
    "    train_subset = CIFAR10Dataset(train_subset_raw, transform=train_transform)\n",
    "    val_subset = CIFAR10Dataset(val_subset_raw, transform=val_transform)\n",
    "    \n",
    "    # DataLoader (num_workers=0 for notebook compatibility)\n",
    "    train_loader = DataLoader(train_subset, batch_size=BATCH_SIZE, shuffle=True, num_workers=0)\n",
    "    val_loader = DataLoader(val_subset, batch_size=BATCH_SIZE, shuffle=False, num_workers=0)\n",
    "    \n",
    "    # 모델 생성\n",
    "    # 모델 생성 (SELECTED_MODEL 변수 사용)\n",
    "    model = timm.create_model(SELECTED_MODEL, pretrained=True, num_classes=10)\n",
    "    model = model.to(device)\n",
    "    \n",
    "    # Loss & Optimizer\n",
    "    criterion = nn.CrossEntropyLoss()\n",
    "    optimizer = optim.Adam(model.parameters(), lr=LEARNING_RATE)\n",
    "    scheduler = optim.lr_scheduler.ReduceLROnPlateau(optimizer, mode='max', factor=0.5, patience=2)\n",
    "    \n",
    "    # Early Stopping\n",
    "    early_stopping = EarlyStopping(patience=PATIENCE, verbose=True)\n",
    "    \n",
    "    # 학습 이력\n",
    "    history = {\n",
    "        'train_loss': [], 'train_acc': [], 'train_f1': [],\n",
    "        'val_loss': [], 'val_acc': [], 'val_f1': []\n",
    "    }\n",
    "    \n",
    "    # Epoch 학습\n",
    "    for epoch in range(NUM_EPOCHS):\n",
    "        print(f\"\\nEpoch [{epoch+1}/{NUM_EPOCHS}]\")\n",
    "        \n",
    "        # Train\n",
    "        train_loss, train_acc, train_f1 = train_one_epoch(model, train_loader, criterion, optimizer, device)\n",
    "        \n",
    "        # Validation\n",
    "        val_loss, val_acc, val_f1, _, _ = validate(model, val_loader, criterion, device)\n",
    "        \n",
    "        # 스케줄러 업데이트\n",
    "        scheduler.step(val_f1)\n",
    "        \n",
    "        # 이력 저장\n",
    "        history['train_loss'].append(train_loss)\n",
    "        history['train_acc'].append(train_acc)\n",
    "        history['train_f1'].append(train_f1)\n",
    "        history['val_loss'].append(val_loss)\n",
    "        history['val_acc'].append(val_acc)\n",
    "        history['val_f1'].append(val_f1)\n",
    "        \n",
    "        # 출력\n",
    "        print(f\"Train Loss: {train_loss:.4f} | Train Acc: {train_acc:.2f}% | Train F1: {train_f1:.4f}\")\n",
    "        print(f\"Val   Loss: {val_loss:.4f} | Val   Acc: {val_acc:.2f}% | Val   F1: {val_f1:.4f}\")\n",
    "        \n",
    "        # 🔥 Wandb 로깅\n",
    "        wandb.log({\n",
    "            f\"fold_{fold+1}/train_loss\": train_loss,\n",
    "            f\"fold_{fold+1}/train_acc\": train_acc,\n",
    "            f\"fold_{fold+1}/train_f1\": train_f1,\n",
    "            f\"fold_{fold+1}/val_loss\": val_loss,\n",
    "            f\"fold_{fold+1}/val_acc\": val_acc,\n",
    "            f\"fold_{fold+1}/val_f1\": val_f1,\n",
    "            f\"fold_{fold+1}/learning_rate\": optimizer.param_groups[0]['lr'],\n",
    "            f\"fold_{fold+1}/epoch\": epoch + 1\n",
    "        })\n",
    "        \n",
    "        # Early Stopping 체크\n",
    "        early_stopping(val_f1, model)\n",
    "        \n",
    "        if early_stopping.early_stop:\n",
    "            print(\"🛑 Early stopping triggered!\")\n",
    "            break\n",
    "        \n",
    "        # GPU 메모리 정리 (발열 감소)\n",
    "        if device.type in ['cuda', 'mps']:\n",
    "            torch.cuda.empty_cache() if device.type == 'cuda' else None\n",
    "    \n",
    "    # Best 모델 로드\n",
    "    model.load_state_dict(early_stopping.best_model_state)\n",
    "    \n",
    "    # 모델 및 결과 저장\n",
    "    fold_models.append(copy.deepcopy(model))\n",
    "    fold_results.append({\n",
    "        'fold': fold + 1,\n",
    "        'best_val_f1': early_stopping.best_f1,\n",
    "        'history': history\n",
    "    })\n",
    "    \n",
    "    # 🔥 Fold 별 최고 성능 로깅\n",
    "    wandb.log({\n",
    "        f\"fold_{fold+1}/best_val_f1\": early_stopping.best_f1\n",
    "    })\n",
    "    \n",
    "    print(f\"\\n✅ Fold {fold + 1} 완료! Best Validation F1: {early_stopping.best_f1:.4f}\")\n",
    "    \n",
    "    # Fold 간 메모리 정리\n",
    "    if device.type in ['cuda', 'mps']:\n",
    "        torch.cuda.empty_cache() if device.type == 'cuda' else None\n",
    "\n",
    "print(\"\\n\" + \"=\" * 60)\n",
    "print(\"전체 K-Fold 학습 완료!\")\n",
    "print(\"=\" * 60)"
   ]
  },
  {
   "cell_type": "markdown",
   "metadata": {},
   "source": [
    "## 7. K-Fold Cross Validation 학습"
   ]
  },
  {
   "cell_type": "code",
   "execution_count": 10,
   "metadata": {},
   "outputs": [
    {
     "name": "stdout",
     "output_type": "stream",
     "text": [
      "\n",
      "📊 K-Fold Cross Validation 결과 요약\n",
      "============================================================\n",
      "Fold 1: Best Validation F1 = 0.8447\n",
      "Fold 2: Best Validation F1 = 0.8463\n",
      "============================================================\n",
      "평균 Validation F1: 0.8455 ± 0.0008\n",
      "============================================================\n"
     ]
    }
   ],
   "source": [
    "# K-Fold 결과 요약\n",
    "print(\"\\n📊 K-Fold Cross Validation 결과 요약\")\n",
    "print(\"=\" * 60)\n",
    "\n",
    "for result in fold_results:\n",
    "    fold = result['fold']\n",
    "    best_f1 = result['best_val_f1']\n",
    "    print(f\"Fold {fold}: Best Validation F1 = {best_f1:.4f}\")\n",
    "\n",
    "# 평균 F1 Score\n",
    "avg_f1 = np.mean([r['best_val_f1'] for r in fold_results])\n",
    "std_f1 = np.std([r['best_val_f1'] for r in fold_results])\n",
    "\n",
    "print(\"=\" * 60)\n",
    "print(f\"평균 Validation F1: {avg_f1:.4f} ± {std_f1:.4f}\")\n",
    "print(\"=\" * 60)"
   ]
  },
  {
   "cell_type": "code",
   "execution_count": 11,
   "metadata": {},
   "outputs": [
    {
     "name": "stdout",
     "output_type": "stream",
     "text": [
      "\n",
      "🔮 앙상블 예측 시작...\n"
     ]
    },
    {
     "name": "stderr",
     "output_type": "stream",
     "text": [
      "Fold 1 예측: 100%|██████████| 8/8 [00:01<00:00,  6.76it/s]\n",
      "Fold 2 예측: 100%|██████████| 8/8 [00:00<00:00, 10.95it/s]\n"
     ]
    },
    {
     "name": "stdout",
     "output_type": "stream",
     "text": [
      "✅ 앙상블 예측 완료! (총 1000개 샘플)\n"
     ]
    }
   ],
   "source": [
    "# Test DataLoader (num_workers=0 for notebook compatibility)\n",
    "test_loader = DataLoader(test_dataset, batch_size=BATCH_SIZE, shuffle=False, num_workers=0)\n",
    "\n",
    "# 앙상블 예측 (소프트 보팅)\n",
    "print(\"\\n🔮 앙상블 예측 시작...\")\n",
    "\n",
    "all_predictions = []\n",
    "\n",
    "for fold_idx, model in enumerate(fold_models):\n",
    "    model.eval()\n",
    "    fold_preds = []\n",
    "    \n",
    "    with torch.no_grad():\n",
    "        for images, _ in tqdm(test_loader, desc=f\"Fold {fold_idx + 1} 예측\"):\n",
    "            images = images.to(device)\n",
    "            outputs = model(images)\n",
    "            probs = torch.softmax(outputs, dim=1)\n",
    "            fold_preds.append(probs.cpu().numpy())\n",
    "    \n",
    "    fold_preds = np.concatenate(fold_preds, axis=0)\n",
    "    all_predictions.append(fold_preds)\n",
    "\n",
    "# 앙상블 (평균)\n",
    "ensemble_probs = np.mean(all_predictions, axis=0)\n",
    "ensemble_preds = np.argmax(ensemble_probs, axis=1)\n",
    "\n",
    "print(f\"✅ 앙상블 예측 완료! (총 {len(ensemble_preds)}개 샘플)\")\n",
    "\n",
    "# CIFAR-10 클래스 이름\n",
    "class_names = ['airplane', 'automobile', 'bird', 'cat', 'deer', \n",
    "               'dog', 'frog', 'horse', 'ship', 'truck']"
   ]
  },
  {
   "cell_type": "markdown",
   "metadata": {},
   "source": [
    "## 10. Test Set 평가"
   ]
  },
  {
   "cell_type": "code",
   "execution_count": 12,
   "metadata": {},
   "outputs": [
    {
     "name": "stdout",
     "output_type": "stream",
     "text": [
      "\n",
      "============================================================\n",
      "🎯 Test Set 최종 결과 (앙상블)\n",
      "============================================================\n",
      "Test Accuracy: 90.10%\n",
      "Test Macro F1 Score: 0.9002\n",
      "============================================================\n"
     ]
    }
   ],
   "source": [
    "# Test set 실제 레이블\n",
    "test_labels = [label for _, label in test_dataset_raw]\n",
    "\n",
    "# Macro F1 Score 계산\n",
    "test_f1 = f1_score(test_labels, ensemble_preds, average='macro')\n",
    "test_acc = 100. * np.sum(np.array(ensemble_preds) == np.array(test_labels)) / len(test_labels)\n",
    "\n",
    "print(\"\\n\" + \"=\" * 60)\n",
    "print(\"🎯 Test Set 최종 결과 (앙상블)\")\n",
    "print(\"=\" * 60)\n",
    "print(f\"Test Accuracy: {test_acc:.2f}%\")\n",
    "print(f\"Test Macro F1 Score: {test_f1:.4f}\")\n",
    "print(\"=\" * 60)"
   ]
  },
  {
   "cell_type": "code",
   "execution_count": null,
   "metadata": {},
   "outputs": [
    {
     "data": {
      "image/png": "[encoded data removed]",
      "text/plain": [
       "<Figure size 1800x1000 with 6 Axes>"
      ]
     },
     "metadata": {},
     "output_type": "display_data"
    },
    {
     "ename": "",
     "evalue": "",
     "output_type": "error",
     "traceback": [
      "\u001b[1;31mThe Kernel crashed while executing code in the current cell or a previous cell. \n",
      "\u001b[1;31mPlease review the code in the cell(s) to identify a possible cause of the failure. \n",
      "\u001b[1;31mClick <a href='https://aka.ms/vscodeJupyterKernelCrash'>here</a> for more info. \n",
      "\u001b[1;31mView Jupyter <a href='command:jupyter.viewOutput'>log</a> for further details."
     ]
    }
   ],
   "source": [
    "# 각 Fold별 학습 곡선 시각화\n",
    "fig, axes = plt.subplots(N_SPLITS, 3, figsize=(18, 5 * N_SPLITS))\n",
    "\n",
    "if N_SPLITS == 1:\n",
    "    axes = axes.reshape(1, -1)\n",
    "\n",
    "for fold_idx, result in enumerate(fold_results):\n",
    "    history = result['history']\n",
    "    fold = result['fold']\n",
    "    \n",
    "    epochs = range(1, len(history['train_loss']) + 1)\n",
    "    \n",
    "    # Loss\n",
    "    axes[fold_idx, 0].plot(epochs, history['train_loss'], 'b-', label='Train Loss')\n",
    "    axes[fold_idx, 0].plot(epochs, history['val_loss'], 'r-', label='Val Loss')\n",
    "    axes[fold_idx, 0].set_title(f'Fold {fold} - Loss')\n",
    "    axes[fold_idx, 0].set_xlabel('Epoch')\n",
    "    axes[fold_idx, 0].set_ylabel('Loss')\n",
    "    axes[fold_idx, 0].legend()\n",
    "    axes[fold_idx, 0].grid(True)\n",
    "    \n",
    "    # Accuracy\n",
    "    axes[fold_idx, 1].plot(epochs, history['train_acc'], 'b-', label='Train Acc')\n",
    "    axes[fold_idx, 1].plot(epochs, history['val_acc'], 'r-', label='Val Acc')\n",
    "    axes[fold_idx, 1].set_title(f'Fold {fold} - Accuracy')\n",
    "    axes[fold_idx, 1].set_xlabel('Epoch')\n",
    "    axes[fold_idx, 1].set_ylabel('Accuracy (%)')\n",
    "    axes[fold_idx, 1].legend()\n",
    "    axes[fold_idx, 1].grid(True)\n",
    "    \n",
    "    # F1 Score\n",
    "    axes[fold_idx, 2].plot(epochs, history['train_f1'], 'b-', label='Train F1')\n",
    "    axes[fold_idx, 2].plot(epochs, history['val_f1'], 'r-', label='Val F1')\n",
    "    axes[fold_idx, 2].set_title(f'Fold {fold} - F1 Score')\n",
    "    axes[fold_idx, 2].set_xlabel('Epoch')\n",
    "    axes[fold_idx, 2].set_ylabel('F1 Score')\n",
    "    axes[fold_idx, 2].legend()\n",
    "    axes[fold_idx, 2].grid(True)\n",
    "\n",
    "plt.tight_layout()\n",
    "plt.show()"
   ]
  },
  {
   "cell_type": "markdown",
   "metadata": {},
   "source": [
    "## 요약\n",
    "\n",
    "이 노트북에서는 다음을 구현했습니다:\n",
    "\n",
    "### 주요 구성 요소\n",
    "1. **EfficientNet-B0**: 사전 학습된 모델을 활용한 전이 학습\n",
    "2. **K-Fold Cross Validation**: 3-Fold로 모델의 일반화 성능 향상\n",
    "3. **Early Stopping**: 과적합 방지 및 최적의 모델 저장\n",
    "4. **Data Augmentation**: Albumentations를 이용한 이미지 증강\n",
    "5. **Ensemble Prediction**: 여러 모델의 예측을 평균하여 최종 예측\n",
    "\n",
    "### 결과\n",
    "- **평균 Validation F1 Score**: 각 Fold의 결과 참조\n",
    "- **Test F1 Score**: 앙상블 모델의 최종 성능\n",
    "- **시각화**: 학습 곡선, Confusion Matrix, 클래스별 성능 분석\n",
    "\n",
    "### 개선 방향\n",
    "1. 더 많은 데이터 증강 기법 추가 (Cutout, Mixup 등)\n",
    "2. 다른 모델 아키텍처 실험 (EfficientNet-B1~B7, ResNet, ViT 등)\n",
    "3. 하이퍼파라미터 튜닝 (Learning Rate, Batch Size 등)\n",
    "4. TTA (Test Time Augmentation) 적용\n",
    "5. Label Smoothing, Focal Loss 등 고급 기법 적용"
   ]
  }
 ],
 "metadata": {
  "kernelspec": {
   "display_name": "CV_competition",
   "language": "python",
   "name": "python3"
  },
  "language_info": {
   "codemirror_mode": {
    "name": "ipython",
    "version": 3
   },
   "file_extension": ".py",
   "mimetype": "text/x-python",
   "name": "python",
   "nbconvert_exporter": "python",
   "pygments_lexer": "ipython3",
   "version": "3.10.19"
  }
 },
 "nbformat": 4,
 "nbformat_minor": 2
}
