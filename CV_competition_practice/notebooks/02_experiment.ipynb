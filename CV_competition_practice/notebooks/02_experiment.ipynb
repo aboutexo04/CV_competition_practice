{
 "cells": [
  {
   "cell_type": "markdown",
   "metadata": {},
   "source": [
    "\n",
    "##### 이 노트북은 CIFAR-10 데이터셋을 사용한 이미지 분류 실험입니다."
   ]
  },
  {
   "cell_type": "code",
   "execution_count": 1,
   "metadata": {},
   "outputs": [
    {
     "name": "stdout",
     "output_type": "stream",
     "text": [
      "Project root: /Users/seoyeonmun/CV_competition_practice/CV_competition_practice\n"
     ]
    }
   ],
   "source": [
    "# ============================================================\n",
    "# 1. Python path 설정\n",
    "# ============================================================\n",
    "import sys\n",
    "from pathlib import Path\n",
    "\n",
    "project_root = Path.cwd().parent\n",
    "if str(project_root) not in sys.path:\n",
    "    sys.path.insert(0, str(project_root))\n",
    "\n",
    "print(f\"Project root: {project_root}\")"
   ]
  },
  {
   "cell_type": "code",
   "execution_count": 2,
   "metadata": {},
   "outputs": [],
   "source": [
    "# ============================================================\n",
    "# 2. Ensure inline plotting in this notebook\n",
    "# ============================================================\n",
    "%matplotlib inline\n"
   ]
  },
  {
   "cell_type": "code",
   "execution_count": 3,
   "metadata": {},
   "outputs": [
    {
     "name": "stdout",
     "output_type": "stream",
     "text": [
      "PyTorch: 2.5.1\n",
      "MPS: True\n"
     ]
    }
   ],
   "source": [
    "# ============================================================\n",
    "# 3. 기본 라이브러리 임포트 및 MPS 설정\n",
    "# ============================================================\n",
    "import torch\n",
    "import numpy as np\n",
    "import matplotlib.pyplot as plt\n",
    "from tqdm import tqdm\n",
    "\n",
    "print(f\"PyTorch: {torch.__version__}\")\n",
    "print(f\"MPS: {torch.backends.mps.is_available()}\")"
   ]
  },
  {
   "cell_type": "code",
   "execution_count": 4,
   "metadata": {},
   "outputs": [
    {
     "name": "stdout",
     "output_type": "stream",
     "text": [
      "{'MODEL_NAME': 'efficientnet_b0', 'BATCH_SIZE': 32, 'N_FOLDS': 2, 'EPOCHS': 1, 'LR': 0.001, 'PATIENCE': 5, 'IMAGE_SIZE': 224, 'USE_SUBSET': True, 'SUBSET_RATIO': 0.1}\n",
      "======================================================================\n",
      "⚙️  실험 설정 (Hyperparameters)\n",
      "======================================================================\n",
      "\n",
      "📦 모델 설정:\n",
      "  - 모델:              efficientnet_b0\n",
      "  - 이미지 크기:       224x224\n",
      "\n",
      "🎯 학습 설정:\n",
      "  - Batch Size:        32\n",
      "  - Epochs:            1\n",
      "  - Learning Rate:     0.001\n",
      "  - K-Fold:            2\n",
      "  - Early Stop:        5 epochs\n",
      "\n",
      "💾 데이터 설정:\n",
      "  - 서브셋 사용:       Yes\n",
      "  - 서브셋 비율:       10.0%\n",
      "\n",
      "🖥️  디바이스:\n",
      "  - Device:            mps\n",
      "======================================================================\n",
      "✅ Config 업데이트 완료!\n",
      "======================================================================\n",
      "⚙️  실험 설정 (Hyperparameters)\n",
      "======================================================================\n",
      "\n",
      "📦 모델 설정:\n",
      "  - 모델:              efficientnet_b0\n",
      "  - 이미지 크기:       224x224\n",
      "\n",
      "🎯 학습 설정:\n",
      "  - Batch Size:        32\n",
      "  - Epochs:            1\n",
      "  - Learning Rate:     0.001\n",
      "  - K-Fold:            2\n",
      "  - Early Stop:        5 epochs\n",
      "\n",
      "💾 데이터 설정:\n",
      "  - 서브셋 사용:       Yes\n",
      "  - 서브셋 비율:       10.0%\n",
      "\n",
      "🖥️  디바이스:\n",
      "  - Device:            mps\n",
      "======================================================================\n"
     ]
    }
   ],
   "source": [
    "# ============================================================\n",
    "# 4. 하이퍼파라미터 설정\n",
    "# ============================================================\n",
    "from src.config import print_config, update_config\n",
    "\n",
    "# 현재 설정 확인\n",
    "print_config()\n",
    "\n",
    "# 필요시 하이퍼파라미터 수정 (아래 주석 해제하여 사용)\n",
    "update_config(\n",
    "#     MODEL_NAME='efficientnet_b0',\n",
    "#     BATCH_SIZE=64,\n",
    "     EPOCHS=1,\n",
    "#     LR=0.001,\n",
    "     N_FOLDS=2,\n",
    "#     PATIENCE=5,\n",
    "#     IMAGE_SIZE=224,\n",
    "#     USE_SUBSET=False,\n",
    "#     SUBSET_RATIO=0.1\n",
    " )"
   ]
  },
  {
   "cell_type": "code",
   "execution_count": 5,
   "metadata": {},
   "outputs": [
    {
     "name": "stdout",
     "output_type": "stream",
     "text": [
      "🎯 선택된 모델: EfficientNet-B0 (efficientnet_b0)\n"
     ]
    },
    {
     "name": "stderr",
     "output_type": "stream",
     "text": [
      "\u001b[34m\u001b[1mwandb\u001b[0m: Currently logged in as: \u001b[33maboutexo04\u001b[0m (\u001b[33maboutexo04-korea-open-university\u001b[0m) to \u001b[32mhttps://api.wandb.ai\u001b[0m. Use \u001b[1m`wandb login --relogin`\u001b[0m to force relogin\n"
     ]
    },
    {
     "data": {
      "text/html": [],
      "text/plain": [
       "<IPython.core.display.HTML object>"
      ]
     },
     "metadata": {},
     "output_type": "display_data"
    },
    {
     "data": {
      "text/html": [
       "Tracking run with wandb version 0.22.3"
      ],
      "text/plain": [
       "<IPython.core.display.HTML object>"
      ]
     },
     "metadata": {},
     "output_type": "display_data"
    },
    {
     "data": {
      "text/html": [
       "Run data is saved locally in <code>/Users/seoyeonmun/CV_competition_practice/CV_competition_practice/notebooks/wandb/run-20251030_152349-wm8bfdje</code>"
      ],
      "text/plain": [
       "<IPython.core.display.HTML object>"
      ]
     },
     "metadata": {},
     "output_type": "display_data"
    },
    {
     "data": {
      "text/html": [
       "Syncing run <strong><a href='https://wandb.ai/aboutexo04-korea-open-university/cifar10-classification/runs/wm8bfdje' target=\"_blank\">efficientnet_b0_bs32_ep1</a></strong> to <a href='https://wandb.ai/aboutexo04-korea-open-university/cifar10-classification' target=\"_blank\">Weights & Biases</a> (<a href='https://wandb.me/developer-guide' target=\"_blank\">docs</a>)<br>"
      ],
      "text/plain": [
       "<IPython.core.display.HTML object>"
      ]
     },
     "metadata": {},
     "output_type": "display_data"
    },
    {
     "data": {
      "text/html": [
       " View project at <a href='https://wandb.ai/aboutexo04-korea-open-university/cifar10-classification' target=\"_blank\">https://wandb.ai/aboutexo04-korea-open-university/cifar10-classification</a>"
      ],
      "text/plain": [
       "<IPython.core.display.HTML object>"
      ]
     },
     "metadata": {},
     "output_type": "display_data"
    },
    {
     "data": {
      "text/html": [
       " View run at <a href='https://wandb.ai/aboutexo04-korea-open-university/cifar10-classification/runs/wm8bfdje' target=\"_blank\">https://wandb.ai/aboutexo04-korea-open-university/cifar10-classification/runs/wm8bfdje</a>"
      ],
      "text/plain": [
       "<IPython.core.display.HTML object>"
      ]
     },
     "metadata": {},
     "output_type": "display_data"
    },
    {
     "name": "stdout",
     "output_type": "stream",
     "text": [
      "✅ Wandb 초기화 완료: efficientnet_b0_bs32_ep1\n"
     ]
    }
   ],
   "source": [
    "# ============================================================\n",
    "# 5. Wandb 초기화\n",
    "# ============================================================\n",
    "import wandb\n",
    "from src.config import MODEL_NAME, BATCH_SIZE, EPOCHS, LR, N_FOLDS, IMAGE_SIZE, PATIENCE, USE_SUBSET, SUBSET_RATIO\n",
    "from src.model import MODEL_DISPLAY_NAME, SELECTED_MODEL\n",
    "\n",
    "# Wandb 로그인 (최초 1회만 필요, 주석 해제)\n",
    "# wandb.login()\n",
    "\n",
    "# 실험 초기화\n",
    "wandb.init(\n",
    "    project=\"cifar10-classification\",\n",
    "    name=f\"{MODEL_NAME}_bs{BATCH_SIZE}_ep{EPOCHS}\",\n",
    "    config={\n",
    "        \"model\": MODEL_DISPLAY_NAME,\n",
    "        \"model_architecture\": SELECTED_MODEL,\n",
    "        \"batch_size\": BATCH_SIZE,\n",
    "        \"epochs\": EPOCHS,\n",
    "        \"learning_rate\": LR,\n",
    "        \"n_folds\": N_FOLDS,\n",
    "        \"image_size\": IMAGE_SIZE,\n",
    "        \"patience\": PATIENCE,\n",
    "        \"use_subset\": USE_SUBSET,\n",
    "        \"subset_ratio\": SUBSET_RATIO if USE_SUBSET else 1.0\n",
    "    }\n",
    ")\n",
    "\n",
    "print(f\"✅ Wandb 초기화 완료: {wandb.run.name}\")\n"
   ]
  },
  {
   "cell_type": "code",
   "execution_count": 6,
   "metadata": {},
   "outputs": [
    {
     "name": "stdout",
     "output_type": "stream",
     "text": [
      "Using device: MPS (Apple Silicon)\n",
      "============================================================\n",
      "📦 Loading CIFAR10 Data (from pickle files)\n",
      "============================================================\n",
      "✅ Loading CIFAR10 data from pickle files...\n",
      "\n",
      "✅ CIFAR10 Data Loaded!\n",
      "Train: 50,000 images\n",
      "Test:  10,000 images\n",
      "Classes: 10\n",
      "Class names: ['airplane', 'automobile', 'bird', 'cat', 'deer', 'dog', 'frog', 'horse', 'ship', 'truck']\n",
      "Location: /Users/seoyeonmun/CV_competition_practice/CV_competition_practice/data/cifar-10-batches-py\n"
     ]
    },
    {
     "name": "stderr",
     "output_type": "stream",
     "text": [
      "/opt/anaconda3/envs/CV_competition/lib/python3.10/site-packages/albumentations/core/validation.py:114: UserWarning: ShiftScaleRotate is a special case of Affine transform. Please use Affine transform instead.\n",
      "  original_init(self, **validated_kwargs)\n"
     ]
    },
    {
     "name": "stdout",
     "output_type": "stream",
     "text": [
      "🔥 발열 감소 모드: 데이터셋 10% 사용\n",
      "✅ Total train size: 5,000\n",
      "✅ Test size: 1,000\n",
      "\n",
      "💡 전체 데이터로 학습하려면 USE_SUBSET = False로 변경하세요\n",
      "\n",
      "✅ 데이터 로드 완료\n",
      "Train: 5,000, Test: 1,000\n"
     ]
    }
   ],
   "source": [
    "# ============================================================\n",
    "# 6. Data 로드\n",
    "# ============================================================\n",
    "\n",
    "from src.config import *\n",
    "from src.data import *\n",
    "print(f\"\\n✅ 데이터 로드 완료\")\n",
    "print(f\"Train: {len(train_dataset_raw):,}, Test: {len(test_dataset):,}\")"
   ]
  },
  {
   "cell_type": "code",
   "execution_count": 8,
   "metadata": {},
   "outputs": [
    {
     "data": {
      "image/png": "[encoded data removed]",
      "text/plain": [
       "<Figure size 1500x600 with 10 Axes>"
      ]
     },
     "metadata": {},
     "output_type": "display_data"
    }
   ],
   "source": [
    "# ============================================================\n",
    "# 7. 샘플 이미지 시각화 (랜덤)\n",
    "# ============================================================\n",
    "import random\n",
    "\n",
    "fig, axes = plt.subplots(2, 5, figsize=(15, 6))\n",
    "\n",
    "# 랜덤 인덱스 생성\n",
    "random_indices = random.sample(range(len(train_dataset_raw)), 10)\n",
    "\n",
    "for i, ax in enumerate(axes.flat):\n",
    "    image, label = train_dataset_raw[random_indices[i]]\n",
    "    ax.imshow(image)\n",
    "    ax.set_title(f\"{class_names[label]}\")\n",
    "    ax.axis('off')\n",
    "\n",
    "plt.tight_layout()\n",
    "plt.show()"
   ]
  },
  {
   "cell_type": "code",
   "execution_count": 9,
   "metadata": {},
   "outputs": [
    {
     "name": "stdout",
     "output_type": "stream",
     "text": [
      "======================================================================\n",
      "📋 사용 가능한 모델 목록\n",
      "======================================================================\n",
      "\n",
      "🔹 EfficientNet:\n",
      "👉  1. EfficientNet-B0           (efficientnet_b0)\n",
      "    2. EfficientNet-B1           (efficientnet_b1)\n",
      "    3. EfficientNet-B2           (efficientnet_b2)\n",
      "    4. EfficientNet-B3           (efficientnet_b3)\n",
      "\n",
      "🔹 ResNet:\n",
      "    5. ResNet-18                 (resnet18)\n",
      "    6. ResNet-34                 (resnet34)\n",
      "    7. ResNet-50                 (resnet50)\n",
      "    8. ResNet-101                (resnet101)\n",
      "\n",
      "🔹 ViT (Vision Transformer):\n",
      "    9. ViT-Tiny                  (vit_tiny_patch16_224)\n",
      "   10. ViT-Small                 (vit_small_patch16_224)\n",
      "\n",
      "🔹 ConvNeXt:\n",
      "   11. ConvNeXt-Tiny             (convnext_tiny)\n",
      "   12. ConvNeXt-Small            (convnext_small)\n",
      "\n",
      "🔹 MobileNet:\n",
      "   13. MobileNetV3-Small         (mobilenetv3_small_100)\n",
      "   14. MobileNetV3-Large         (mobilenetv3_large_100)\n",
      "\n",
      "======================================================================\n",
      "✅ 현재 선택된 모델: EfficientNet-B0 (efficientnet_b0)\n",
      "💡 모델 변경 방법: src/config.py에서 MODEL_NAME을 수정하세요\n",
      "======================================================================\n",
      "\n",
      "📊 모델 정보\n",
      "======================================================================\n",
      "  모델 이름:           EfficientNet-B0\n",
      "  전체 파라미터:       4,020,358\n",
      "  학습 가능 파라미터:  4,020,358\n",
      "  고정 파라미터:       0\n",
      "  디바이스:            mps\n",
      "======================================================================\n"
     ]
    }
   ],
   "source": [
    "# ============================================================\n",
    "# 8. 모델 생성\n",
    "# ============================================================\n",
    "from src.model import print_model_list, create_model, print_model_info\n",
    "\n",
    "print_model_list()\n",
    "\n",
    "model = create_model(SELECTED_MODEL, num_classes, pretrained=True)\n",
    "model = model.to(device)\n",
    "\n",
    "print_model_info(model, device)"
   ]
  },
  {
   "cell_type": "code",
   "execution_count": null,
   "metadata": {},
   "outputs": [
    {
     "ename": "SyntaxError",
     "evalue": "invalid syntax. Maybe you meant '==' or ':=' instead of '='? (949459475.py, line 7)",
     "output_type": "error",
     "traceback": [
      "\u001b[0;36m  Cell \u001b[0;32mIn[10], line 7\u001b[0;36m\u001b[0m\n\u001b[0;31m    model=None,config_dict = {\u001b[0m\n\u001b[0m    ^\u001b[0m\n\u001b[0;31mSyntaxError\u001b[0m\u001b[0;31m:\u001b[0m invalid syntax. Maybe you meant '==' or ':=' instead of '='?\n"
     ]
    }
   ],
   "source": [
    "# ============================================================\n",
    "# 9. 모델 학습\n",
    "# ============================================================\n",
    "from src.train import run_kfold_training\n",
    "\n",
    "# NOTE: run_kfold_training 내부에서 매 fold마다 모델을 생성하므로 model 인자는 사용되지 않습니다.\n",
    "config_dict = {\n",
    "    'EPOCHS': EPOCHS,\n",
    "    'BATCH_SIZE': BATCH_SIZE,\n",
    "    'LR': LR,\n",
    "    'N_FOLDS': N_FOLDS,\n",
    "    'PATIENCE': PATIENCE,\n",
    "    'MODEL_NAME': SELECTED_MODEL\n",
    "}\n",
    "\n",
    "# NOTE: run_kfold_training 내부에서 매 fold마다 모델을 생성하므로 model 인자는 사용되지 않습니다.\n",
    "fold_results = run_kfold_training(\n",
    "    model=None,\n",
    "    train_dataset_raw=train_dataset_raw,\n",
    "    train_labels=train_labels,\n",
    "    train_transform=train_transform,\n",
    "    val_transform=val_transform,\n",
    "    num_classes=num_classes,\n",
    "    device=device,\n",
    "    config_dict=config_dict,\n",
    "    use_wandb=True\n",
    ")"
   ]
  },
  {
   "cell_type": "code",
   "execution_count": null,
   "metadata": {},
   "outputs": [],
   "source": [
    "# ============================================================\n",
    "# 10. 평가 및 결과 분석\n",
    "# ============================================================\n",
    "import platform\n",
    "import matplotlib.pyplot as plt\n",
    "\n",
    "# 한글 폰트 설정 (즉시 적용)\n",
    "if platform.system() == 'Darwin':  # macOS\n",
    "    plt.rcParams['font.family'] = 'AppleGothic'\n",
    "elif platform.system() == 'Windows':\n",
    "    plt.rcParams['font.family'] = 'Malgun Gothic'\n",
    "else:  # Linux\n",
    "    plt.rcParams['font.family'] = 'NanumGothic'\n",
    "plt.rcParams['axes.unicode_minus'] = False\n",
    "\n",
    "from src.evaluation import run_full_evaluation\n",
    "\n",
    "results = run_full_evaluation(\n",
    "    fold_results=fold_results,\n",
    "    test_dataset=test_dataset,\n",
    "    test_dataset_raw=test_dataset_raw,\n",
    "    class_names=class_names,\n",
    "    device=device,\n",
    "    batch_size=BATCH_SIZE,\n",
    "    num_classes=num_classes,\n",
    "    use_wandb=True\n",
    ")"
   ]
  },
  {
   "cell_type": "code",
   "execution_count": null,
   "metadata": {},
   "outputs": [],
   "source": [
    "# ============================================================\n",
    "# 11. 실험 결과 저장 (간소화)\n",
    "# ============================================================\n",
    "from src.logger import log_experiment_results\n",
    "\n",
    "log_experiment_results(\n",
    "    project_root=project_root,\n",
    "    fold_results=fold_results,\n",
    "    results=results,\n",
    ")\n"
   ]
  },
  {
   "cell_type": "code",
   "execution_count": null,
   "metadata": {},
   "outputs": [],
   "source": []
  }
 ],
 "metadata": {
  "kernelspec": {
   "display_name": "Python 3",
   "language": "python",
   "name": "python3"
  },
  "language_info": {
   "codemirror_mode": {
    "name": "ipython",
    "version": 3
   },
   "file_extension": ".py",
   "mimetype": "text/x-python",
   "name": "python",
   "nbconvert_exporter": "python",
   "pygments_lexer": "ipython3",
   "version": "3.8.0"
  }
 },
 "nbformat": 4,
 "nbformat_minor": 4
}
